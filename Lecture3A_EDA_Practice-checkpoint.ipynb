{
 "cells": [
  {
   "cell_type": "markdown",
   "metadata": {},
   "source": [
    "# Lecture 3 Visualization and Preprocessing"
   ]
  },
  {
   "cell_type": "code",
   "execution_count": null,
   "metadata": {},
   "outputs": [],
   "source": [
    "import numpy as np\n",
    "import pandas as pd  # for data analytics\n",
    "\n",
    "# The two packages below are for plotting\n",
    "import seaborn as sns\n",
    "import matplotlib.pyplot as plt\n",
    "\n",
    "# Type it in the first cell of your notebook, then your matplotlib plots will be included next to your codes. \n",
    "# Otherwise, include plt.show()\n",
    "%matplotlib inline"
   ]
  },
  {
   "cell_type": "markdown",
   "metadata": {},
   "source": [
    "## 1. Data Loading and Cleaning Basics\n",
    "\n",
    "To import data from a csv file, use syntax: <font color=#09A4D7>pd.read_csv(FILE_NAME)</font> Make sure the file is under your current directory. You will obtain a Pandas DataFrame (similar to spreadsheet).\n",
    "\n",
    "- Use <font color=#09A4D7>DataFrame.head(k)</font> to see the first <font color=#09A4D7>k</font> rows of our data. \n",
    "- Use <font color=#09A4D7>DataFrame.shape</font> to collect the dimensions. \n",
    "- Use <font color=#09A4D7>DataFrame.columns</font> to collect the column names."
   ]
  },
  {
   "cell_type": "markdown",
   "metadata": {},
   "source": [
    "### <font color=#BA2121>Practice</font>\n",
    "<ol>\n",
    "    <li>Use Pandas package to load the csv file: <a href=\"train.csv\">train.csv</a></li>\n",
    "    <li>View the first <font color=#09A4D7>10</font> rows of the dataset.</li>\n",
    "    <li>Report the number of records and number of variables.</li>\n",
    "    <li>Report all the variable names.</li>\n",
    "</ol>"
   ]
  },
  {
   "cell_type": "code",
   "execution_count": null,
   "metadata": {},
   "outputs": [],
   "source": [
    "# data loading\n"
   ]
  },
  {
   "cell_type": "code",
   "execution_count": null,
   "metadata": {},
   "outputs": [],
   "source": [
    "# first 10 rows"
   ]
  },
  {
   "cell_type": "code",
   "execution_count": null,
   "metadata": {},
   "outputs": [],
   "source": [
    "# shape of the dataframe\n"
   ]
  },
  {
   "cell_type": "code",
   "execution_count": null,
   "metadata": {},
   "outputs": [],
   "source": [
    "# variable names\n"
   ]
  },
  {
   "cell_type": "markdown",
   "metadata": {},
   "source": [
    "### 1.1 Handling Anomaly\n",
    "- Use <font color=#09A4D7>Dataframe.drop_duplicates()</font> to keep only unique records.\n",
    "- Use <font color=#09A4D7>DataFrame.dropna()</font>: to drop missing value\n",
    "    - By default, drop rows with any missing value\n",
    "    - <font color=#09A4D7>axis</font>: default = 'index' (i.e., drop rows). If you want to drop columns with any missing, specify <font color=#09A4D7>axis = 'columns'</font>"
   ]
  },
  {
   "cell_type": "code",
   "execution_count": null,
   "metadata": {},
   "outputs": [],
   "source": [
    "# drop duplicates\n"
   ]
  },
  {
   "cell_type": "code",
   "execution_count": null,
   "metadata": {},
   "outputs": [],
   "source": [
    "# Drop variables with missing values\n"
   ]
  },
  {
   "cell_type": "markdown",
   "metadata": {},
   "source": [
    "### 1.2 Pandas DataFrame"
   ]
  },
  {
   "cell_type": "markdown",
   "metadata": {},
   "source": [
    "In this section, we focus on indexing and subsampling of a pandas dataframe. This helps with calculation and advanced visualization in upcoming sections.\n",
    "\n",
    "One advantage of using Pandas DataFrame is to obtain columns (in pandas, a 'Series') easily through \"**[ ]**\" operator. \n",
    "- To obtain one variable, use: <font color=#09A4D7>DataFrame[var_name]</font>\n",
    "- To obtain multiple variables, use: <font color=#09A4D7>DataFrame[var_list]</font>, where var_list = [var1, var2, ...]"
   ]
  },
  {
   "cell_type": "code",
   "execution_count": null,
   "metadata": {},
   "outputs": [],
   "source": [
    "# Selecting one/multiple columns through [] operator\n"
   ]
  },
  {
   "cell_type": "markdown",
   "metadata": {},
   "source": [
    "There are two choices for indexing in a DataFrame. \n",
    "- **Integer based indexing.** Works similar to numpy array. Syntax: **DataFrame.iloc[row_range, column_range]**\n",
    "    - You can use a list of integers to select separated elements.\n",
    "- **Label based indexing.** Extract rows and columns based on corresponding label (e.g., variable name). Syntax: **DataFrame.loc[row_range, column_range]**. \n",
    "    - For label indexing, the range is INCLUSIVE!"
   ]
  },
  {
   "cell_type": "code",
   "execution_count": null,
   "metadata": {},
   "outputs": [],
   "source": [
    "# Select rows and columns based on integer indexing. \n",
    "# This works the same as 2d arrays.\n"
   ]
  },
  {
   "cell_type": "code",
   "execution_count": null,
   "metadata": {},
   "outputs": [],
   "source": [
    "# Selecing several columns/rows based on label indexing \n",
    "# By default, row labels are just integers\n"
   ]
  },
  {
   "cell_type": "markdown",
   "metadata": {},
   "source": [
    "## 2. Univariate Data Analysis\n",
    "To obtain summary statistics, use syntax **DataFrame.describe()**: \n",
    "- percentiles: the percentiles to report (instead of quantiles). Use a list to specify all percentiles."
   ]
  },
  {
   "cell_type": "code",
   "execution_count": null,
   "metadata": {
    "scrolled": false
   },
   "outputs": [],
   "source": [
    "# Obtain summary statistics\n"
   ]
  },
  {
   "cell_type": "markdown",
   "metadata": {},
   "source": [
    "### 2.1 Visualization Basics\n",
    "**Labels and Titles**\n",
    "\n",
    "- Use **plt.xlabel(\"CONTENT\")**, and **plt.ylabel(\"CONTENT\")** to specify the labels. Use **plt.title(\"TITLE NAME\")** to specify the titles.\n",
    "\n",
    "- Use **plt.xlim(LEFT_LIMIT, RIGHT_LIMIT)** to set range for x axis. Change xlim to ylim for y axis.\n",
    "\n",
    "- Use **plt.xticks(ticks, labels)** to specify ticks (i.e., what values to include) and **corresponding** labels (i.e., labels of the values). Both should be specified in a list. The length of ticks and labels must match.\n",
    "\n",
    "- Use **plt.legend([list_of_legends])** to show legend\n",
    "\n",
    "**Parameter Settings** The specific parameters differ for different plots. But here are some common parameters:\n",
    "- <font color=#09A4D7>color</font>: color of the lines/bars, 'r', 'g', 'b', 'k' for red, green, blue, and black, correspondingly.\n",
    "- <font color=#09A4D7>alpha</font>: transparency level. 0<alpha<=1; lower value of alpha => more transparent.\n",
    "- <font color=#09A4D7>linestyle</font>: the line style (e.g., solid/dash/...). Solid: -, Dashed: --, Dotted: ., Dash-dot: -.\n",
    "\n",
    "### 2.2 Histogram\n",
    "We can use syntax: **plt.hist(x)** to create the histogram of x. \n",
    "- <font color=#09A4D7>bins</font>: bin number\n",
    "\n",
    "To create overlap histogram, we use another package: Seaborn. The syntax is: **sns.histplot(data, x, hue)**. Specify parameter name clearly\n",
    "- <font color=#09A4D7>data</font>: the Pandas DataFrame to use\n",
    "- <font color=#09A4D7>x</font>: the variable name of x (the one for histogram)\n",
    "- <font color=#09A4D7>hue</font>: the variable name of category, if you want to create overlapped histogram by a specific variable.\n",
    "    - It must be a variable in the DataFrame.\n",
    "For other specifications, check: https://seaborn.pydata.org/generated/seaborn.histplot.html"
   ]
  },
  {
   "cell_type": "markdown",
   "metadata": {},
   "source": [
    "### <font color=#BA2121>Practice: Histogram</font>\n",
    "- Draw a histogram of <font color=#09A4D7>SalePrice</font>, set bin number as <font color=#09A4D7>20</font>. Specify color as <font color=#09A4D7>red</font>. Label axes accordingly.\n",
    "- Draw histogram of two following samples, and overlap the two figures.\n",
    "  <ol>\n",
    "    <li>Those with <font color=#09A4D7>OverallQual greater than 6</font>;</li>\n",
    "    <li>Those with <font color=#09A4D7>OverallQual less or equal to 6</font>.</li> "
   ]
  },
  {
   "cell_type": "code",
   "execution_count": null,
   "metadata": {},
   "outputs": [],
   "source": [
    "## Histogram with detailed labels\n"
   ]
  },
  {
   "cell_type": "code",
   "execution_count": null,
   "metadata": {},
   "outputs": [],
   "source": [
    "## Overlaid Histogram (w. seaborn)\n",
    "# First, generate a new variable, it takes 1 if quality is high, 0 otherwise\n"
   ]
  },
  {
   "cell_type": "markdown",
   "metadata": {},
   "source": [
    "### 2.3 Boxplot\n",
    "Use syntax **plt.boxplot(x)** to create boxplot of x. It is very tedious to draw a boxplot of different groups using pyplot. This case, use: **sns.boxplot(data, x, y...)**\n",
    "- <font color=#09A4D7>x</font>: If one-dimensional, then represents the variables to plot. If two-dimensional (i.e., box plot of different groups), then represents the group indicator.\n",
    "- <font color=#09A4D7>y</font>: Not available if one-dimensional. If two-dimensional, the variable to plot.\n",
    "- <font color=#09A4D7>orient</font>: = \"v\" if vertical, =\"h\" if horizontal\n",
    "\n",
    "For other specifications: https://seaborn.pydata.org/generated/seaborn.boxplot.html\n",
    "\n",
    "### <font color=#BA2121>Practice:</font>\n",
    "<ol>\n",
    "    <li>Provide a boxplot of SalePrice</li>\n",
    "    <li>Provide a set of boxplots of 'SalePrice' based on different levels of 'OverallQual' (use Seaborn)</li>\n",
    "</ol>"
   ]
  },
  {
   "cell_type": "code",
   "execution_count": null,
   "metadata": {
    "scrolled": true
   },
   "outputs": [],
   "source": [
    "# Boxplot basics (sns)\n"
   ]
  },
  {
   "cell_type": "code",
   "execution_count": null,
   "metadata": {},
   "outputs": [],
   "source": [
    "# To provide a set of boxplots, it's a lot easier to use seaborn\n"
   ]
  },
  {
   "cell_type": "markdown",
   "metadata": {},
   "source": [
    "## 3. Multivariate Data Analysis\n",
    "\n",
    "### 3.1 Correlation\n",
    "To create correlation matrix, use syntax: **.corr()**  Remember that the variables should be specified in a list. Use syntax **sns.heatmap()** to obtain heatmap.\n",
    "\n",
    "### <font color=#BA2121>Practice:</font>\n",
    "<ol>\n",
    "    <li>Create a correlation matrix of the following variables: 'SalePrice','OverallQual','GrLivArea','GarageCars','TotalBsmtSF'</li>\n",
    "    <li>Use a heatmap to visualize the correlation of the above-mentioned variables</li>\n",
    "</ol>"
   ]
  },
  {
   "cell_type": "code",
   "execution_count": null,
   "metadata": {},
   "outputs": [],
   "source": [
    "# Correlation matrix"
   ]
  },
  {
   "cell_type": "code",
   "execution_count": null,
   "metadata": {},
   "outputs": [],
   "source": [
    "# heatmap"
   ]
  },
  {
   "cell_type": "code",
   "execution_count": null,
   "metadata": {},
   "outputs": [],
   "source": [
    "# heatmap\n"
   ]
  },
  {
   "cell_type": "markdown",
   "metadata": {},
   "source": [
    "### 3.2 Scatter\n",
    "To produce a scatter plot, use syntax: **plt.scatter(x,y)**   The first entry is horizontal axis, the second entry is vertical axis.\n",
    "\n",
    "### <font color=#BA2121>Practice</font>\n",
    "<ol>\n",
    "    <li>Use scatter plot to explore the relationship between SalePrice and GrLivArea</li>\n",
    "    <li>Create a scatter plot to show the relationship between Saleprice and GrLivArea, use different colors to show OverallQual. Set transparency as 0.7</li>\n",
    "</ol>"
   ]
  },
  {
   "cell_type": "code",
   "execution_count": null,
   "metadata": {},
   "outputs": [],
   "source": [
    "# Scatter plot basics\n"
   ]
  },
  {
   "cell_type": "code",
   "execution_count": null,
   "metadata": {},
   "outputs": [],
   "source": [
    "# Scatter plot with color\n",
    "# Scatter plot basics\n"
   ]
  },
  {
   "cell_type": "markdown",
   "metadata": {},
   "source": [
    "## 4. Data Preprocessing I \n",
    "In most cases, we rely on <font color=#09A4D7>sklearn.preprocessing</font> module to complete data preprocessing. Examples include scaling and encoding. As the implementation of sklearn is consistent across different scenarios (e.g., preprocessing, model training, etc.)\n",
    "\n",
    "### 4.1 Skewed Data\n",
    "Consider log transfer and square root transfer. These can be done by simple calculation using numpy (i.e. np.log(), np.sqrt())."
   ]
  },
  {
   "cell_type": "code",
   "execution_count": null,
   "metadata": {},
   "outputs": [],
   "source": []
  },
  {
   "cell_type": "code",
   "execution_count": null,
   "metadata": {},
   "outputs": [],
   "source": []
  },
  {
   "cell_type": "code",
   "execution_count": null,
   "metadata": {},
   "outputs": [],
   "source": []
  },
  {
   "cell_type": "markdown",
   "metadata": {},
   "source": [
    "### 4.2 Data Scaling and Encoding\n",
    "Data scaling and encoding syntax are under Scikit-Learn package Preprocessing Module. Coding when using sklearn packages is longer and follows a standard workflow. We will elaborate the workflow in linear regression section. In the current section, we only provide the syntax and coding template.\n",
    "\n",
    "For specific parameter settings, please check the sklearn manual. You can simple copy and paste the syntax in Google to find the official manual.\n",
    "\n",
    "**Standard Scaler:** use syntax: <font color=#09A4D7>sklearn.preprocessing.StandardScaler()</font>\n",
    "\n",
    "**Min-Max Scaler:** use syntax: <font color=#09A4D7>sklearn.preprocessing.MinMaxScaler()</font>\n",
    "\n",
    "**One-Hot Encoding:** use syntax: <font color=#09A4D7>sklearn.preprocessing.OneHotEncoder()</font>\n",
    "\n",
    "**Ordinal Encoding** use syntax: <font color=#09A4D7>sklearn.preprocessing.OrdinalEncoder()</font>"
   ]
  }
 ],
 "metadata": {
  "kernelspec": {
   "display_name": "Python 3 (ipykernel)",
   "language": "python",
   "name": "python3"
  },
  "language_info": {
   "codemirror_mode": {
    "name": "ipython",
    "version": 3
   },
   "file_extension": ".py",
   "mimetype": "text/x-python",
   "name": "python",
   "nbconvert_exporter": "python",
   "pygments_lexer": "ipython3",
   "version": "3.11.4"
  }
 },
 "nbformat": 4,
 "nbformat_minor": 4
}
